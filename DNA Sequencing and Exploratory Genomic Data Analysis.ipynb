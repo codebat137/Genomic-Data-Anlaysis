{
 "cells": [
  {
   "cell_type": "code",
   "execution_count": 88,
   "metadata": {},
   "outputs": [],
   "source": [
    "import numpy as np\n",
    "import pandas as pd\n",
    "import seaborn as sns\n",
    "import matplotlib.pyplot as plt\n",
    "import random\n",
    "from sklearn.preprocessing import StandardScaler\n",
    "%matplotlib inline"
   ]
  },
  {
   "cell_type": "code",
   "execution_count": 89,
   "metadata": {},
   "outputs": [],
   "source": [
    "plt.style.use('ggplot')\n",
    "plt.rcParams['figure.figsize'] = (12,8)"
   ]
  },
  {
   "cell_type": "code",
   "execution_count": 90,
   "metadata": {},
   "outputs": [],
   "source": [
    "seq = 'ACGTGATCGATCGAT'"
   ]
  },
  {
   "cell_type": "code",
   "execution_count": 91,
   "metadata": {},
   "outputs": [
    {
     "data": {
      "text/plain": [
       "'T'"
      ]
     },
     "execution_count": 91,
     "metadata": {},
     "output_type": "execute_result"
    }
   ],
   "source": [
    "x = random.choice('ACGT')\n",
    "x"
   ]
  },
  {
   "cell_type": "code",
   "execution_count": 92,
   "metadata": {},
   "outputs": [
    {
     "data": {
      "text/plain": [
       "'ACTGCATTTCACGTGCACAG'"
      ]
     },
     "execution_count": 92,
     "metadata": {},
     "output_type": "execute_result"
    }
   ],
   "source": [
    "rand_seq = ''.join([random.choice('ACGT') for _ in range(20)])\n",
    "rand_seq"
   ]
  },
  {
   "cell_type": "code",
   "execution_count": 93,
   "metadata": {},
   "outputs": [
    {
     "data": {
      "text/plain": [
       "'CAG'"
      ]
     },
     "execution_count": 93,
     "metadata": {},
     "output_type": "execute_result"
    }
   ],
   "source": [
    "rand_seq[-3:]"
   ]
  },
  {
   "cell_type": "code",
   "execution_count": 94,
   "metadata": {},
   "outputs": [],
   "source": [
    "def longest_common_prefix(s1,s2):\n",
    "    i = 0\n",
    "    while(i<len(s1) and i<len(s2) and s1[i]==s2[i]):\n",
    "        i+=1\n",
    "    return i"
   ]
  },
  {
   "cell_type": "code",
   "execution_count": 95,
   "metadata": {},
   "outputs": [
    {
     "data": {
      "text/plain": [
       "3"
      ]
     },
     "execution_count": 95,
     "metadata": {},
     "output_type": "execute_result"
    }
   ],
   "source": [
    "s1 = 'ACAGT'\n",
    "s2 = 'ACATT'\n",
    "longest_common_prefix(s1,s2)"
   ]
  },
  {
   "cell_type": "code",
   "execution_count": 122,
   "metadata": {},
   "outputs": [],
   "source": [
    "def reverse_complement(s):\n",
    "    compliment = {\n",
    "    'A':'T',\n",
    "    'T':'A',\n",
    "    'C':'G',\n",
    "    'G':'C',\n",
    "    'N':'N'\n",
    "    }\n",
    "    res = []\n",
    "    for i,item in enumerate(s):\n",
    "        #blank for missing/non valid nucleotides\n",
    "        res.append(compliment.get(item,''))\n",
    "    res.reverse()\n",
    "    return ''.join(res)"
   ]
  },
  {
   "cell_type": "code",
   "execution_count": 97,
   "metadata": {},
   "outputs": [
    {
     "data": {
      "text/plain": [
       "'ACTGT'"
      ]
     },
     "execution_count": 97,
     "metadata": {},
     "output_type": "execute_result"
    }
   ],
   "source": [
    "reverse_compliment(s1)"
   ]
  },
  {
   "cell_type": "code",
   "execution_count": 98,
   "metadata": {},
   "outputs": [],
   "source": [
    "#reading from a fasta file\n",
    "def read_genome(filename):\n",
    "    genome = []\n",
    "    with open(filename,'r') as f:\n",
    "        for line in f:\n",
    "            if line[0]!='>':\n",
    "                genome.append(line.rstrip())\n",
    "    return ''.join(genome)"
   ]
  },
  {
   "cell_type": "code",
   "execution_count": 99,
   "metadata": {},
   "outputs": [],
   "source": [
    "lamda_genome = read_genome('lambda_virus.fa')"
   ]
  },
  {
   "cell_type": "code",
   "execution_count": 100,
   "metadata": {},
   "outputs": [],
   "source": [
    "def frequency(genome):\n",
    "    counts = {\n",
    "        'A':0,\n",
    "        'C':0,\n",
    "        'G':0,\n",
    "        'T':0\n",
    "    }\n",
    "    for base in genome:\n",
    "        counts[base]+=1\n",
    "    return counts"
   ]
  },
  {
   "cell_type": "code",
   "execution_count": 101,
   "metadata": {},
   "outputs": [
    {
     "data": {
      "text/plain": [
       "{'A': 12334, 'C': 11362, 'G': 12820, 'T': 11986}"
      ]
     },
     "execution_count": 101,
     "metadata": {},
     "output_type": "execute_result"
    }
   ],
   "source": [
    "frequency(lamda_genome)"
   ]
  },
  {
   "cell_type": "code",
   "execution_count": 102,
   "metadata": {},
   "outputs": [
    {
     "data": {
      "text/plain": [
       "Counter({'G': 1254, 'A': 1291, 'T': 1684, 'C': 1157})"
      ]
     },
     "execution_count": 102,
     "metadata": {},
     "output_type": "execute_result"
    }
   ],
   "source": [
    "import collections\n",
    "collections.Counter(genome)"
   ]
  },
  {
   "cell_type": "code",
   "execution_count": 103,
   "metadata": {},
   "outputs": [],
   "source": [
    "def QtoPred33(Q):\n",
    "    return chr(Q+33)\n",
    "\n",
    "def phred33ToQ(qual):\n",
    "    return ord(qual) - 33"
   ]
  },
  {
   "cell_type": "code",
   "execution_count": 104,
   "metadata": {},
   "outputs": [
    {
     "name": "stdout",
     "output_type": "stream",
     "text": [
      "--2020-06-23 18:27:33--  http://d28rh4a8wq0iu5.cloudfront.net/ads1/data/SRR835775_1.first1000.fastq\n",
      "Resolving d28rh4a8wq0iu5.cloudfront.net (d28rh4a8wq0iu5.cloudfront.net)... 13.33.151.172, 13.33.151.45, 13.33.151.164, ...\n",
      "Connecting to d28rh4a8wq0iu5.cloudfront.net (d28rh4a8wq0iu5.cloudfront.net)|13.33.151.172|:80... connected.\n",
      "HTTP request sent, awaiting response... 200 OK\n",
      "Length: 224786 (220K) [application/octet-stream]\n",
      "Saving to: ‘SRR835775_1.first1000.fastq.1’\n",
      "\n",
      "SRR835775_1.first10 100%[===================>] 219.52K   252KB/s    in 0.9s    \n",
      "\n",
      "2020-06-23 18:27:35 (252 KB/s) - ‘SRR835775_1.first1000.fastq.1’ saved [224786/224786]\n",
      "\n"
     ]
    }
   ],
   "source": [
    "!wget http://d28rh4a8wq0iu5.cloudfront.net/ads1/data/SRR835775_1.first1000.fastq"
   ]
  },
  {
   "cell_type": "code",
   "execution_count": 105,
   "metadata": {},
   "outputs": [],
   "source": [
    "def readFastq(filename):\n",
    "    sequences = []\n",
    "    qualities = []\n",
    "    with open(filename) as fh:\n",
    "        while True:\n",
    "            fh.readline() # skip name line\n",
    "            seq = fh.readline().rstrip() # read base sequence\n",
    "            fh.readline() # skip placeholder line\n",
    "            qual = fh.readline().rstrip() #base quality line\n",
    "            if len(seq) == 0:\n",
    "                break\n",
    "            sequences.append(seq)\n",
    "            qualities.append(qual)\n",
    "    return sequences, qualities"
   ]
  },
  {
   "cell_type": "code",
   "execution_count": 106,
   "metadata": {},
   "outputs": [],
   "source": [
    "seqs, quals = readFastq('SRR835775_1.first1000.fastq')"
   ]
  },
  {
   "cell_type": "code",
   "execution_count": 107,
   "metadata": {},
   "outputs": [],
   "source": [
    "def createHist(qualityStrings):\n",
    "    # Create a histogram of quality scores\n",
    "    hist = [0]*50\n",
    "    for read in qualityStrings:\n",
    "        for phred in read:\n",
    "            q = phred33ToQ(phred)\n",
    "            hist[q] += 1\n",
    "    return hist"
   ]
  },
  {
   "cell_type": "code",
   "execution_count": 108,
   "metadata": {},
   "outputs": [
    {
     "name": "stdout",
     "output_type": "stream",
     "text": [
      "[0, 0, 6178, 0, 0, 54, 108, 574, 345, 83, 193, 124, 79, 165, 49, 236, 184, 327, 514, 238, 531, 254, 313, 798, 992, 888, 1396, 1488, 993, 1752, 3387, 4487, 3248, 5476, 8375, 11814, 4243, 7827, 6579, 8179, 9349, 8180, 0, 0, 0, 0, 0, 0, 0, 0]\n"
     ]
    }
   ],
   "source": [
    "h = createHist(quals)\n",
    "print(h)"
   ]
  },
  {
   "cell_type": "code",
   "execution_count": 109,
   "metadata": {},
   "outputs": [
    {
     "data": {
      "image/png": "[encoded data removed]",
      "text/plain": [
       "<Figure size 864x576 with 1 Axes>"
      ]
     },
     "metadata": {},
     "output_type": "display_data"
    }
   ],
   "source": [
    "plt.plot(range(len(h)), h)\n",
    "plt.show()"
   ]
  },
  {
   "cell_type": "code",
   "execution_count": 110,
   "metadata": {},
   "outputs": [],
   "source": [
    "def findGCByPos(reads):\n",
    "    ''' Find the GC ratio at each position in the read '''\n",
    "    # Keep track of the number of G/C bases and the total number of bases at each position\n",
    "    gc = [0] * len(reads[0])\n",
    "    totals = [0] * len(reads[0])\n",
    "    for read in reads:\n",
    "        for i in range(len(read)):\n",
    "            if read[i] == 'C' or read[i] == 'G':\n",
    "                gc[i] += 1\n",
    "            totals[i] += 1\n",
    "    # Divide G/C counts by total counts to get the average at each position\n",
    "    for i in range(len(gc)):\n",
    "        if totals[i] > 0:\n",
    "            gc[i] /= float(totals[i])\n",
    "    return gc"
   ]
  },
  {
   "cell_type": "code",
   "execution_count": 111,
   "metadata": {},
   "outputs": [
    {
     "data": {
      "image/png": "[encoded data removed]",
      "text/plain": [
       "<Figure size 864x576 with 1 Axes>"
      ]
     },
     "metadata": {},
     "output_type": "display_data"
    }
   ],
   "source": [
    "gc = findGCByPos(seqs)\n",
    "plt.plot(range(len(gc)), gc)\n",
    "plt.show()"
   ]
  },
  {
   "cell_type": "code",
   "execution_count": 112,
   "metadata": {},
   "outputs": [],
   "source": [
    "def naive(p, t):\n",
    "    occurrences = []\n",
    "    for i in range(len(t) - len(p) + 1):\n",
    "        match = True\n",
    "        for j in range(len(p)):\n",
    "            if t[i+j] != p[j]:\n",
    "                match = False\n",
    "                break\n",
    "        if match:\n",
    "            occurrences.append(i)\n",
    "    return occurrences"
   ]
  },
  {
   "cell_type": "code",
   "execution_count": 113,
   "metadata": {},
   "outputs": [
    {
     "name": "stdout",
     "output_type": "stream",
     "text": [
      "--2020-06-23 18:27:36--  http://d28rh4a8wq0iu5.cloudfront.net/ads1/data/phix.fa\n",
      "Resolving d28rh4a8wq0iu5.cloudfront.net (d28rh4a8wq0iu5.cloudfront.net)... 13.33.151.132, 13.33.151.164, 13.33.151.45, ...\n",
      "Connecting to d28rh4a8wq0iu5.cloudfront.net (d28rh4a8wq0iu5.cloudfront.net)|13.33.151.132|:80... connected.\n",
      "HTTP request sent, awaiting response... 200 OK\n",
      "Length: 5528 (5.4K) [application/octet-stream]\n",
      "Saving to: ‘phix.fa.1’\n",
      "\n",
      "phix.fa.1           100%[===================>]   5.40K  --.-KB/s    in 0.004s  \n",
      "\n",
      "2020-06-23 18:27:38 (1.43 MB/s) - ‘phix.fa.1’ saved [5528/5528]\n",
      "\n"
     ]
    }
   ],
   "source": [
    "!wget http://d28rh4a8wq0iu5.cloudfront.net/ads1/data/phix.fa"
   ]
  },
  {
   "cell_type": "code",
   "execution_count": 124,
   "metadata": {},
   "outputs": [],
   "source": [
    "genome = read_genome('phix.fa')"
   ]
  },
  {
   "cell_type": "code",
   "execution_count": 125,
   "metadata": {},
   "outputs": [],
   "source": [
    "def generateReads(genome, numReads, readLen):\n",
    "    ''' Generate reads from random positions in the given genome. '''\n",
    "    reads = []\n",
    "    for _ in range(numReads):\n",
    "        start = random.randint(0, len(genome)-readLen) - 1\n",
    "        reads.append(genome[start : start+readLen])\n",
    "    return reads"
   ]
  },
  {
   "cell_type": "code",
   "execution_count": 126,
   "metadata": {},
   "outputs": [
    {
     "name": "stdout",
     "output_type": "stream",
     "text": [
      "80 / 80 reads matched the genome exactly!\n"
     ]
    }
   ],
   "source": [
    "# Generate 80 reads of length 100\n",
    "reads = generateReads(genome, 80, 100)\n",
    "\n",
    "# Count how many reads match the genome exactly\n",
    "numMatched = 0\n",
    "for r in reads:\n",
    "    matches = naive(r, genome)\n",
    "    if len(matches) > 0:\n",
    "        numMatched += 1\n",
    "print('%d / %d reads matched the genome exactly!' % (numMatched, len(reads)))"
   ]
  },
  {
   "cell_type": "code",
   "execution_count": 117,
   "metadata": {},
   "outputs": [
    {
     "name": "stdout",
     "output_type": "stream",
     "text": [
      "--2020-06-23 18:27:38--  http://d28rh4a8wq0iu5.cloudfront.net/ads1/data/ERR266411_1.first1000.fastq\n",
      "Resolving d28rh4a8wq0iu5.cloudfront.net (d28rh4a8wq0iu5.cloudfront.net)... 13.33.151.132, 13.33.151.164, 13.33.151.45, ...\n",
      "Connecting to d28rh4a8wq0iu5.cloudfront.net (d28rh4a8wq0iu5.cloudfront.net)|13.33.151.132|:80... connected.\n",
      "HTTP request sent, awaiting response... 200 OK\n",
      "Length: 254384 (248K) [audio/mpeg]\n",
      "Saving to: ‘ERR266411_1.first1000.fastq.1’\n",
      "\n",
      "ERR266411_1.first10 100%[===================>] 248.42K   371KB/s    in 0.7s    \n",
      "\n",
      "2020-06-23 18:27:40 (371 KB/s) - ‘ERR266411_1.first1000.fastq.1’ saved [254384/254384]\n",
      "\n"
     ]
    }
   ],
   "source": [
    "#download the sequence reads of the current genome\n",
    "!wget http://d28rh4a8wq0iu5.cloudfront.net/ads1/data/ERR266411_1.first1000.fastq"
   ]
  },
  {
   "cell_type": "code",
   "execution_count": 127,
   "metadata": {},
   "outputs": [
    {
     "data": {
      "text/plain": [
       "Counter({'T': 30531, 'A': 28426, 'C': 21890, 'G': 19147, 'N': 6})"
      ]
     },
     "execution_count": 127,
     "metadata": {},
     "output_type": "execute_result"
    }
   ],
   "source": [
    "phix_reads,_ = readFastq('ERR266411_1.first1000.fastq')\n",
    "count = collections.Counter()\n",
    "for read in phix_reads:\n",
    "    count.update(read)\n",
    "count"
   ]
  },
  {
   "cell_type": "code",
   "execution_count": 128,
   "metadata": {},
   "outputs": [
    {
     "name": "stdout",
     "output_type": "stream",
     "text": [
      "932 / 1000 reads matched the genome exactly!\n"
     ]
    }
   ],
   "source": [
    "numMatched = 0\n",
    "n = 0\n",
    "for r in phix_reads:\n",
    "    r = r[:30]  # just taking the first 30 bases\n",
    "    matches = naive(r, genome)\n",
    "    matches.extend(naive(reverse_complement(r), genome))\n",
    "    n += 1\n",
    "    if len(matches) > 0:\n",
    "        numMatched += 1\n",
    "print('%d / %d reads matched the genome exactly!' % (numMatched, n))"
   ]
  },
  {
   "cell_type": "code",
   "execution_count": 165,
   "metadata": {},
   "outputs": [],
   "source": [
    "def naiveRc(p,t):\n",
    "    occurrences1 = []\n",
    "    occurrences2 = []\n",
    "    pc = reverse_complement(p)\n",
    "    for i in range(len(t) - len(p) + 1):\n",
    "        match1 = True\n",
    "        match2 = True\n",
    "        \n",
    "        for j in range(len(p)):\n",
    "            if t[i+j] != p[j]:\n",
    "                match1 = False\n",
    "                break\n",
    "                \n",
    "        if match1:\n",
    "            occurrences1.append(i)\n",
    "        \n",
    "        if p==pc:\n",
    "            continue\n",
    "        \n",
    "        for j in range(len(pc)):\n",
    "            if t[i+j] != pc[j]:\n",
    "                match2 = False\n",
    "                break\n",
    "                \n",
    "        if match2:\n",
    "            occurrences2.append(i)\n",
    "    return occurrences1,occurrences2  "
   ]
  },
  {
   "cell_type": "code",
   "execution_count": 138,
   "metadata": {},
   "outputs": [
    {
     "name": "stdout",
     "output_type": "stream",
     "text": [
      "459 / 1000 reads matched the genome exactly!\n",
      "473 / 1000 reads matched the reverse complement genome exactly!\n"
     ]
    }
   ],
   "source": [
    "numMatched1 = 0\n",
    "numMatched2 = 0\n",
    "n = 0\n",
    "for r in phix_reads:\n",
    "    r = r[:30]  # just taking the first 30 bases\n",
    "    matches1,matches2 = naiveRc(r, genome)\n",
    "    n += 1\n",
    "    if len(matches1) > 0:\n",
    "        numMatched1 += 1\n",
    "    if len(matches2) > 0:\n",
    "        numMatched2 += 1\n",
    "print('%d / %d reads matched the genome exactly!' % (numMatched1, n))\n",
    "print('%d / %d reads matched the reverse complement genome exactly!' % (numMatched2, n))"
   ]
  },
  {
   "cell_type": "code",
   "execution_count": 166,
   "metadata": {},
   "outputs": [
    {
     "data": {
      "text/plain": [
       "306"
      ]
     },
     "execution_count": 166,
     "metadata": {},
     "output_type": "execute_result"
    }
   ],
   "source": [
    "match,compmatch = naiveRc('AGGT',lamda_genome)\n",
    "len(match)+len(compmatch)"
   ]
  },
  {
   "cell_type": "code",
   "execution_count": 167,
   "metadata": {},
   "outputs": [
    {
     "data": {
      "text/plain": [
       "195"
      ]
     },
     "execution_count": 167,
     "metadata": {},
     "output_type": "execute_result"
    }
   ],
   "source": [
    "match,compmatch = naiveRc('TTAA',lamda_genome)\n",
    "len(match)+len(compmatch)"
   ]
  },
  {
   "cell_type": "code",
   "execution_count": 146,
   "metadata": {},
   "outputs": [
    {
     "data": {
      "text/plain": [
       "26028"
      ]
     },
     "execution_count": 146,
     "metadata": {},
     "output_type": "execute_result"
    }
   ],
   "source": [
    "#leftmost occurence\n",
    "match,compmatch = naiveRc('ACTAAGT',lamda_genome)\n",
    "min(match[0],compmatch[0])"
   ]
  },
  {
   "cell_type": "code",
   "execution_count": 147,
   "metadata": {},
   "outputs": [
    {
     "data": {
      "text/plain": [
       "450"
      ]
     },
     "execution_count": 147,
     "metadata": {},
     "output_type": "execute_result"
    }
   ],
   "source": [
    "#leftmost occurence\n",
    "match,compmatch = naiveRc('AGTCGA',lamda_genome)\n",
    "min(match[0],compmatch[0])"
   ]
  },
  {
   "cell_type": "code",
   "execution_count": 148,
   "metadata": {},
   "outputs": [],
   "source": [
    "def naive_2mm(p, t):\n",
    "    \"\"\"Allows 2 mismatches\"\"\"\n",
    "    occurrences = []\n",
    "    for i in range(len(t) - len(p) + 1):\n",
    "        match = True\n",
    "        m = 0\n",
    "        for j in range(len(p)):\n",
    "            if t[i+j] != p[j]:\n",
    "                m+=1\n",
    "            if m>2:\n",
    "                match = False\n",
    "                break\n",
    "        if match:\n",
    "            occurrences.append(i)\n",
    "    return occurrences"
   ]
  },
  {
   "cell_type": "code",
   "execution_count": 151,
   "metadata": {},
   "outputs": [
    {
     "data": {
      "text/plain": [
       "191"
      ]
     },
     "execution_count": 151,
     "metadata": {},
     "output_type": "execute_result"
    }
   ],
   "source": [
    "len(naive_2mm('TTCAAGCC',lamda_genome))"
   ]
  },
  {
   "cell_type": "code",
   "execution_count": 164,
   "metadata": {},
   "outputs": [
    {
     "data": {
      "text/plain": [
       "49"
      ]
     },
     "execution_count": 164,
     "metadata": {},
     "output_type": "execute_result"
    }
   ],
   "source": [
    "#leftmost 2 mis match occurence\n",
    "naive_2mm('AGGAGGTT',lamda_genome)[0]"
   ]
  },
  {
   "cell_type": "code",
   "execution_count": 153,
   "metadata": {},
   "outputs": [
    {
     "name": "stdout",
     "output_type": "stream",
     "text": [
      "--2020-06-23 19:44:31--  https://d28rh4a8wq0iu5.cloudfront.net/ads1/data/ERR037900_1.first1000.fastq\n",
      "Resolving d28rh4a8wq0iu5.cloudfront.net (d28rh4a8wq0iu5.cloudfront.net)... 52.84.18.166, 52.84.18.141, 52.84.18.123, ...\n",
      "Connecting to d28rh4a8wq0iu5.cloudfront.net (d28rh4a8wq0iu5.cloudfront.net)|52.84.18.166|:443... connected.\n",
      "HTTP request sent, awaiting response... 200 OK\n",
      "Length: 241626 (236K) [application/octet-stream]\n",
      "Saving to: ‘ERR037900_1.first1000.fastq’\n",
      "\n",
      "ERR037900_1.first10 100%[===================>] 235.96K   137KB/s    in 1.7s    \n",
      "\n",
      "2020-06-23 19:44:36 (137 KB/s) - ‘ERR037900_1.first1000.fastq’ saved [241626/241626]\n",
      "\n"
     ]
    }
   ],
   "source": [
    "#Note that the file has many reads in it. The reads are taken from this study:\n",
    "#Ajay, S. S., Parker, S. C., Abaan, H. O., Fajardo, K. V. F., & Margulies, E. H. (2011). Accurate\n",
    "#and comprehensive sequencing of personal genomes. Genome research, 21(9), 1498-1505.\n",
    "\n",
    "!wget https://d28rh4a8wq0iu5.cloudfront.net/ads1/data/ERR037900_1.first1000.fastq"
   ]
  },
  {
   "cell_type": "code",
   "execution_count": 155,
   "metadata": {},
   "outputs": [],
   "source": [
    "err_seq,err_quals = readFastq('ERR037900_1.first1000.fastq')"
   ]
  },
  {
   "cell_type": "code",
   "execution_count": 159,
   "metadata": {},
   "outputs": [],
   "source": [
    "def findQByPos(quals):\n",
    "    ''' Find the average quality of each strand '''\n",
    "    # Keep track of the Quality\n",
    "    qc = [0] * len(quals[0])\n",
    "    for qual in quals:\n",
    "        for i in range(len(qual)):\n",
    "                qc[i] += phred33ToQ(qual[i])\n",
    "    for i,item in enumerate(qc):\n",
    "        qc[i] = item/len(quals)\n",
    "    return qc"
   ]
  },
  {
   "cell_type": "code",
   "execution_count": 162,
   "metadata": {},
   "outputs": [
    {
     "data": {
      "text/plain": [
       "66"
      ]
     },
     "execution_count": 162,
     "metadata": {},
     "output_type": "execute_result"
    }
   ],
   "source": [
    "#strand with minimum quality\n",
    "avqs = findQByPos(err_quals)\n",
    "t = avqs[0]\n",
    "strand = 0\n",
    "for i in range(1,len(avqs)):\n",
    "    if avqs[i]<t:\n",
    "        t = avqs[i]\n",
    "        strand = i\n",
    "strand"
   ]
  },
  {
   "cell_type": "code",
   "execution_count": null,
   "metadata": {},
   "outputs": [],
   "source": []
  }
 ],
 "metadata": {
  "kernelspec": {
   "display_name": "Python 3",
   "language": "python",
   "name": "python3"
  },
  "language_info": {
   "codemirror_mode": {
    "name": "ipython",
    "version": 3
   },
   "file_extension": ".py",
   "mimetype": "text/x-python",
   "name": "python",
   "nbconvert_exporter": "python",
   "pygments_lexer": "ipython3",
   "version": "3.7.5"
  }
 },
 "nbformat": 4,
 "nbformat_minor": 4
}
